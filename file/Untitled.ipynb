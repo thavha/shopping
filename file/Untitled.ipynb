{
 "cells": [
  {
   "cell_type": "code",
   "execution_count": 8,
   "id": "38dd87b7",
   "metadata": {},
   "outputs": [],
   "source": [
    "import json\n",
    "from collections import Counter\n",
    "f = open('../Data/data.json')\n",
    "data = json.load(f)\n",
    "f.close()"
   ]
  },
  {
   "cell_type": "code",
   "execution_count": 9,
   "id": "dcba1ed6",
   "metadata": {
    "scrolled": true
   },
   "outputs": [
    {
     "data": {
      "text/plain": [
       "[[{'name': 'hamster', 'quantity': 2, 'price': 20},\n",
       "  {'name': 'saw dust', 'quantity': 1, 'price': 20},\n",
       "  {'name': 'hamster-cage', 'quantity': 1, 'price': 150},\n",
       "  {'name': 'book: how to care for your hamster', 'quantity': 1, 'price': 150}],\n",
       " [{'name': 'balloons', 'quantity': 1, 'price': 25},\n",
       "  {'name': 'big friggin cake', 'quantity': 1, 'price': 150},\n",
       "  {'name': 'candles', 'quantity': 1, 'price': 30}],\n",
       " [{'name': 'tooth brush', 'quantity': 1, 'price': 50},\n",
       "  {'name': 'soap', 'quantity': 3, 'price': 15}],\n",
       " [{'name': 'tent', 'quantity': 1, 'price': 1999}]]"
      ]
     },
     "execution_count": 9,
     "metadata": {},
     "output_type": "execute_result"
    }
   ],
   "source": [
    "def get_customer_baskets(customer_Email):\n",
    "    basket_list = []\n",
    "    for content in data:\n",
    "        if content[\"email\"]== customer_Email:\n",
    "            basket_list.append(content[\"items\"])\n",
    "    return basket_list\n",
    "get_customer_baskets(\"tshepo@umuzi.org\")"
   ]
  },
  {
   "cell_type": "code",
   "execution_count": 10,
   "id": "66a5fc0a",
   "metadata": {},
   "outputs": [
    {
     "data": {
      "text/plain": [
       "['tshepo@umuzi.org',\n",
       " 'sally@umuzi.org',\n",
       " 'mpho@umuzi.org',\n",
       " 'ryan@umuzi.org',\n",
       " 'mo@umuzi.org']"
      ]
     },
     "execution_count": 10,
     "metadata": {},
     "output_type": "execute_result"
    }
   ],
   "source": [
    "def get_all_customers():\n",
    "    email_list = []\n",
    "    for content in data:\n",
    "        if content[\"email\"] not in email_list:\n",
    "            email_list.append(content[\"email\"])\n",
    "    return email_list\n",
    "get_all_customers()"
   ]
  },
  {
   "cell_type": "code",
   "execution_count": 11,
   "id": "ee82ade0",
   "metadata": {},
   "outputs": [
    {
     "data": {
      "text/plain": [
       "[{'name': 'balloons', 'quantity': 1},\n",
       " {'name': 'big friggin cake', 'quantity': 1},\n",
       " {'name': 'candles', 'quantity': 1},\n",
       " {'name': 'hamster', 'quantity': 1},\n",
       " {'name': 'saw dust', 'quantity': 1},\n",
       " {'name': 'hamster-cage', 'quantity': 1},\n",
       " {'name': '128 GB SSD Hard drive', 'quantity': 1},\n",
       " {'name': 'book: how to suceed at being a hard arse', 'quantity': 1}]"
      ]
     },
     "execution_count": 11,
     "metadata": {},
     "output_type": "execute_result"
    }
   ],
   "source": [
    "def required_stock():\n",
    "    stock_list = []\n",
    "    \n",
    "    required_stocks = []\n",
    "    \n",
    "    stock_products =[]\n",
    "    \n",
    "    for basket in data:\n",
    "        if basket[\"status\"] ==\"PAID\":\n",
    "            stock_list.append(basket[\"items\"])\n",
    "            \n",
    "    for item in stock_list:\n",
    "    \n",
    "        for goods in item:\n",
    "            stock_products.append(goods[\"name\"])\n",
    "    quantities = dict(Counter(stock_products))\n",
    "    \n",
    "    for content in quantities:\n",
    "        \n",
    "        goods = {}\n",
    "        goods[\"name\"]= content\n",
    "        goods[\"quantity\"]= quantities[content]\n",
    "        required_stocks.append(goods)\n",
    "        \n",
    "    return required_stocks\n",
    "   \n",
    "required_stock()"
   ]
  },
  {
   "cell_type": "code",
   "execution_count": 18,
   "id": "15e11de8",
   "metadata": {},
   "outputs": [
    {
     "data": {
      "text/plain": [
       "2299"
      ]
     },
     "execution_count": 18,
     "metadata": {},
     "output_type": "execute_result"
    }
   ],
   "source": [
    "def total_spent(customer_Email):\n",
    "    stock_list =[]\n",
    "    total_price = 0\n",
    "    for content in data:\n",
    "        if (content[\"status\"] ==\"PAID\" or content[\"status\"] ==\"DELIVERED\") and content[\"email\"]== customer_Email:\n",
    "            stock_list.append(content[\"items\"])\n",
    "            \n",
    "    for stock in stock_list:\n",
    "        for item in stock:\n",
    "            total_price += (item[\"price\"] * item[\"quantity\"])\n",
    "            \n",
    "    return total_price\n",
    "total_spent(\"tshepo@umuzi.org\")\n",
    "    "
   ]
  },
  {
   "cell_type": "code",
   "execution_count": 6,
   "id": "1f4ae7c6",
   "metadata": {},
   "outputs": [
    {
     "data": {
      "text/plain": [
       "[{'email': 'sally@umuzi.org', 'total': 3589},\n",
       " {'email': 'tshepo@umuzi.org', 'total': 2269},\n",
       " {'email': 'ryan@umuzi.org', 'total': 760},\n",
       " {'email': 'mo@umuzi.org', 'total': 350},\n",
       " {'email': 'mpho@umuzi.org', 'total': 0}]"
      ]
     },
     "execution_count": 6,
     "metadata": {},
     "output_type": "execute_result"
    }
   ],
   "source": [
    "def top_customers():\n",
    "    customer_list=[]\n",
    "    emails =  get_all_customers()\n",
    "    for email in emails:\n",
    "        email_amount = {}\n",
    "        email_amount[\"email\"] = email\n",
    "        email_amount[\"total\"] = total_spent(email)\n",
    "        \n",
    "        customer_list.append(email_amount)\n",
    "       \n",
    "    return sorted(customer_list, key = lambda i: i[\"total\"], reverse = True)\n",
    "top_customers()   "
   ]
  },
  {
   "cell_type": "code",
   "execution_count": 7,
   "id": "ab326e47",
   "metadata": {},
   "outputs": [
    {
     "data": {
      "text/plain": [
       "['tshepo@umuzi.org', 'mpho@umuzi.org']"
      ]
     },
     "execution_count": 7,
     "metadata": {},
     "output_type": "execute_result"
    }
   ],
   "source": [
    "def get_customers_with_open_baskets():\n",
    "    email_list =[]\n",
    "    \n",
    "    for content in data:\n",
    "        if content[\"status\"] ==\"OPEN\":\n",
    "            email_list.append(content[\"email\"])\n",
    "        else:\n",
    "            continue\n",
    "    return email_list\n",
    "            \n",
    "get_customers_with_open_baskets()"
   ]
  },
  {
   "cell_type": "code",
   "execution_count": 196,
   "id": "0378a079",
   "metadata": {},
   "outputs": [
    {
     "name": "stdout",
     "output_type": "stream",
     "text": [
      "FaithMo\n"
     ]
    }
   ],
   "source": [
    "import requests\n",
    "\n",
    "import datetime\n",
    "\n",
    "\n",
    "\n",
    "\n",
    "#search for the top repositories\n",
    "api_url = f\"https://api.github.com/repos/Umuzi-org/ACN-syllabus/pulls?state=all\"\n",
    "\n",
    "#send get request\n",
    "response = requests.get(api_url)\n",
    "\n",
    "#get the json data\n",
    "data =  response.json()\n",
    "data_=[]\n",
    "\n",
    "\n",
    "for repository in data:\n",
    "    \n",
    "#print(repository)\n",
    "   \n",
    "    ID = repository[\"id\"]\n",
    "    User = repository[\"user\"][\"login\"]\n",
    "    Title = repository[\"title\"]\n",
    "    State = repository[\"state\"]\n",
    "    #2020-09-29T05:42:26Z\n",
    "    created_at = datetime.date(int(repository[\"created_at\"][0:4]), int(repository[\"created_at\"][5:7]), int(repository[\"created_at\"][8:10]))\n",
    "    #print(ID,User,Title,State)\n",
    "    #if repository[\"created_at\"] <= repository[\"closed_at\"]\n",
    "    data_.append({\"user\":User, \"start_date\":str(created_at)})\n",
    "\n",
    "    #print(ID, State,repository[\"created_at\"] )\n",
    "    #data_.append(repository)\n",
    "print(data_[0][\"user\"])\n",
    "# print(int(repository[\"created_at\"][0:4]))"
   ]
  },
  {
   "cell_type": "code",
   "execution_count": 15,
   "id": "570d7f6f",
   "metadata": {},
   "outputs": [
    {
     "name": "stdout",
     "output_type": "stream",
     "text": [
      "{'full_name': 'Alice Cooper', 'age': 23, 'date_of_visit': '2022-02-24', 'time_of_visit': '07:14:46.859908', 'comments': 'Checking dates for the next intake', 'name_of_assistant': 'Obie'}\n"
     ]
    }
   ],
   "source": [
    "import json\n",
    "from datetime import datetime\n",
    "\n",
    "\n",
    "class Visitor:\n",
    "    def __init__(self, full_name, age=None, comments=None, name_of_assistant=None):\n",
    "        self.name = full_name.split()[0]\n",
    "        self.surname = full_name.split()[-1]\n",
    "        self.full_name = full_name\n",
    "        self.age = age\n",
    "        self.date_of_visit = str(datetime.date(datetime.now()))\n",
    "        self.time_of_visit = str(datetime.time(datetime.now()))\n",
    "        self.comments = comments\n",
    "        self.name_of_assistant = name_of_assistant\n",
    "        self.filename = f\"visitor_{self.name.lower()}_{self.surname.lower()}.json\"\n",
    "\n",
    "    def save(self):\n",
    "        visitor_dict = {\n",
    "            \"full_name\": self.full_name,\n",
    "            \"age\": self.age,\n",
    "            \"date_of_visit\": str(datetime.date(datetime.now())),\n",
    "            \"time_of_visit\": str(datetime.time(datetime.now())),\n",
    "            \"comments\": self.comments,\n",
    "            \"name_of_assistant\": self.name_of_assistant,\n",
    "        }\n",
    "        with open(self.filename, \"w\") as f:\n",
    "            json.dump(visitor_dict, f)\n",
    "            f.close()\n",
    "\n",
    "    @staticmethod\n",
    "    def load(full_name):\n",
    "        filename = \"\".join(\n",
    "            (\n",
    "                \"visitor_{}_{}.json\".format(\n",
    "                    full_name.split()[0].lower(), full_name.split()[-1].lower()\n",
    "                )\n",
    "            )\n",
    "        )\n",
    "        user_name = open(filename, \"r\")\n",
    "        data = json.load(user_name)\n",
    "        user_name.close()\n",
    "        return data\n",
    "\n",
    "\n",
    "alice = Visitor(\"Alice Cooper\", 23, \"Checking dates for the next intake\", \"Obie\")\n",
    "alice.save()\n",
    "print(Visitor.load(\"Alice Cooper\"))"
   ]
  },
  {
   "cell_type": "code",
   "execution_count": 16,
   "id": "b04f3d0c",
   "metadata": {},
   "outputs": [
    {
     "name": "stdout",
     "output_type": "stream",
     "text": [
      "{'full_name': 'Lungile Njakazi', 'age': 27, 'date_of_visit': '09/11/1993', 'time_of_visit': '9 am', 'comments': 'none', 'person_assisted_visitors': 'Siphiwe Mposula'}\n",
      "{'full_name': 'Andiswa', 'age': 22, 'date_of_visit': '09/11/1993', 'time_of_visit': '12 am', 'comments': 'none', 'person_assisted_visitors': 'Thembi'}\n"
     ]
    }
   ],
   "source": [
    "import json\n",
    "\n",
    "\n",
    "class Visitor:\n",
    "    def __init__(\n",
    "        self,\n",
    "        full_name,\n",
    "        age,\n",
    "        date_of_visit,\n",
    "        time_of_visit,\n",
    "        comments,\n",
    "        person_assisted_visitors,\n",
    "    ):\n",
    "        self.full_name = full_name\n",
    "        self.age = age\n",
    "        self.date_of_visit = date_of_visit\n",
    "        self.time_of_visit = time_of_visit\n",
    "        self.comments = comments\n",
    "        self.person_assisted_visitors = person_assisted_visitors\n",
    "\n",
    "    def save(self):\n",
    "        name = self.full_name\n",
    "        file_name = get_file_path(name)\n",
    "        visitor_obj = json.dumps(self.__dict__)\n",
    "        file = open(file_name, \"w\")\n",
    "        file.write(visitor_obj)\n",
    "        file.close()\n",
    "\n",
    "    @classmethod\n",
    "    def load(cls, full_name):\n",
    "        file_name = get_file_path(full_name)\n",
    "        with open(file_name, \"r\") as openfile:\n",
    "            return json.load(openfile)\n",
    "\n",
    "\n",
    "def get_file_path(name):\n",
    "    name = name.lower()\n",
    "    name = name.replace(\" \", \"_\")\n",
    "    file_name = f\"visitor_{name}.json\"\n",
    "    return file_name\n",
    "\n",
    "\n",
    "if __name__ == \"__main__\":\n",
    "    visitor_1 = Visitor(\n",
    "        \"Lungile Njakazi\", 27, \"09/11/1993\", \"9 am\", \"none\", \"Siphiwe Mposula\"\n",
    "    )\n",
    "\n",
    "    visitor_2 = Visitor(\"Andiswa\", 22, \"09/11/1993\", \"12 am\", \"none\", \"Thembi\")\n",
    "    visitor_1.save()\n",
    "    print(Visitor.load(\"Lungile Njakazi\"))\n",
    "\n",
    "    visitor_2.save()\n",
    "    print(Visitor.load(\"Andiswa\"))"
   ]
  },
  {
   "cell_type": "code",
   "execution_count": 17,
   "id": "de4e93fd",
   "metadata": {},
   "outputs": [
    {
     "name": "stdout",
     "output_type": "stream",
     "text": [
      "{'Name': 'Chelsea Love', 'Age': 26, 'date of visit': '2017-07-03', 'Time of visit': '11:00:00', 'Comment': 'here for lunch', 'Name of the person who assisted the visitor': 'Thabo'}\n"
     ]
    }
   ],
   "source": [
    "import json\n",
    "from datetime import datetime\n",
    "\n",
    "\n",
    "class Visitor:\n",
    "    def __init__(\n",
    "        self,\n",
    "        full_name,\n",
    "        age,\n",
    "        date_of_visit,\n",
    "        time_of_visit,\n",
    "        comments,\n",
    "        name_of_the_person_who_assisted_the_visitor,\n",
    "    ):\n",
    "        self.full_name = full_name\n",
    "        self.age = age\n",
    "        self.date_of_visit = date_of_visit\n",
    "        self.time_of_visit = time_of_visit\n",
    "        self.comments = comments\n",
    "        self.name_of_the_person_who_assisted_the_visitor = (\n",
    "            name_of_the_person_who_assisted_the_visitor\n",
    "        )\n",
    "\n",
    "    def save(self):\n",
    "        date = datetime.strptime(self.date_of_visit, \"%Y/%m/%d\").date()\n",
    "        time = datetime.strptime(self.time_of_visit, \"%H:%M:%S\").time()\n",
    "        details = {\n",
    "            \"Name\": self.full_name,\n",
    "            \"Age\": self.age,\n",
    "            \"date of visit\": str(date),\n",
    "            \"Time of visit\": str(time),\n",
    "            \"Comment\": self.comments,\n",
    "            \"Name of the person who assisted the visitor\": self.name_of_the_person_who_assisted_the_visitor,\n",
    "        }\n",
    "        json_name = self.full_name.replace(\" \", \"_\").lower()\n",
    "        filename = f\"visitor_{json_name}\" + \".json\"\n",
    "        with open(filename, \"w\") as file:\n",
    "            json.dump(details, file)\n",
    "\n",
    "    @classmethod\n",
    "    def load(cls, name):\n",
    "        with open(f'visitor_{name.replace(\" \", \"_\").lower()}.json', \"r\") as visitor:\n",
    "            return json.load(visitor)\n",
    "\n",
    "\n",
    "visit1 = Visitor(\n",
    "    \"Chelsea Love\", 26, \"2017/07/03\", \"11:00:00\", \"here for lunch\", \"Thabo\"\n",
    ")\n",
    "visit1.save()\n",
    "print(Visitor.load(\"Chelsea Love\"))"
   ]
  },
  {
   "cell_type": "code",
   "execution_count": null,
   "id": "4da209eb",
   "metadata": {},
   "outputs": [],
   "source": []
  }
 ],
 "metadata": {
  "kernelspec": {
   "display_name": "Python 3 (ipykernel)",
   "language": "python",
   "name": "python3"
  },
  "language_info": {
   "codemirror_mode": {
    "name": "ipython",
    "version": 3
   },
   "file_extension": ".py",
   "mimetype": "text/x-python",
   "name": "python",
   "nbconvert_exporter": "python",
   "pygments_lexer": "ipython3",
   "version": "3.9.7"
  }
 },
 "nbformat": 4,
 "nbformat_minor": 5
}
