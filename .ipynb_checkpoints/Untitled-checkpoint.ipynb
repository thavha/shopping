{
 "cells": [
  {
   "cell_type": "code",
   "execution_count": 2,
   "id": "38dd87b7",
   "metadata": {},
   "outputs": [
    {
     "ename": "FileNotFoundError",
     "evalue": "[Errno 2] No such file or directory: '../Data/data.json'",
     "output_type": "error",
     "traceback": [
      "\u001b[1;31m---------------------------------------------------------------------------\u001b[0m",
      "\u001b[1;31mFileNotFoundError\u001b[0m                         Traceback (most recent call last)",
      "\u001b[1;32m~\\AppData\\Local\\Temp/ipykernel_9976/4269749121.py\u001b[0m in \u001b[0;36m<module>\u001b[1;34m\u001b[0m\n\u001b[0;32m      1\u001b[0m \u001b[1;32mimport\u001b[0m \u001b[0mjson\u001b[0m\u001b[1;33m\u001b[0m\u001b[1;33m\u001b[0m\u001b[0m\n\u001b[0;32m      2\u001b[0m \u001b[1;32mfrom\u001b[0m \u001b[0mcollections\u001b[0m \u001b[1;32mimport\u001b[0m \u001b[0mCounter\u001b[0m\u001b[1;33m\u001b[0m\u001b[1;33m\u001b[0m\u001b[0m\n\u001b[1;32m----> 3\u001b[1;33m \u001b[0mf\u001b[0m \u001b[1;33m=\u001b[0m \u001b[0mopen\u001b[0m\u001b[1;33m(\u001b[0m\u001b[1;34m'../Data/data.json'\u001b[0m\u001b[1;33m)\u001b[0m\u001b[1;33m\u001b[0m\u001b[1;33m\u001b[0m\u001b[0m\n\u001b[0m\u001b[0;32m      4\u001b[0m \u001b[0mdata\u001b[0m \u001b[1;33m=\u001b[0m \u001b[0mjson\u001b[0m\u001b[1;33m.\u001b[0m\u001b[0mload\u001b[0m\u001b[1;33m(\u001b[0m\u001b[0mf\u001b[0m\u001b[1;33m)\u001b[0m\u001b[1;33m\u001b[0m\u001b[1;33m\u001b[0m\u001b[0m\n\u001b[0;32m      5\u001b[0m \u001b[0mf\u001b[0m\u001b[1;33m.\u001b[0m\u001b[0mclose\u001b[0m\u001b[1;33m(\u001b[0m\u001b[1;33m)\u001b[0m\u001b[1;33m\u001b[0m\u001b[1;33m\u001b[0m\u001b[0m\n",
      "\u001b[1;31mFileNotFoundError\u001b[0m: [Errno 2] No such file or directory: '../Data/data.json'"
     ]
    }
   ],
   "source": [
    "import json\n",
    "from collections import Counter\n",
    "f = open('../Data/data.json')\n",
    "data = json.load(f)\n",
    "f.close()"
   ]
  },
  {
   "cell_type": "code",
   "execution_count": 21,
   "id": "dcba1ed6",
   "metadata": {
    "scrolled": true
   },
   "outputs": [
    {
     "data": {
      "text/plain": [
       "[[{'name': 'hamster', 'quantity': 2, 'price': 20},\n",
       "  {'name': 'saw dust', 'quantity': 1, 'price': 20},\n",
       "  {'name': 'hamster-cage', 'quantity': 1, 'price': 150},\n",
       "  {'name': 'book: how to care for your hamster', 'quantity': 1, 'price': 150}],\n",
       " [{'name': 'balloons', 'quantity': 1, 'price': 25},\n",
       "  {'name': 'big friggin cake', 'quantity': 1, 'price': 150},\n",
       "  {'name': 'candles', 'quantity': 1, 'price': 30}],\n",
       " [{'name': 'tooth brush', 'quantity': 1, 'price': 50},\n",
       "  {'name': 'soap', 'quantity': 3, 'price': 15}],\n",
       " [{'name': 'tent', 'quantity': 1, 'price': 1999}]]"
      ]
     },
     "execution_count": 21,
     "metadata": {},
     "output_type": "execute_result"
    }
   ],
   "source": [
    "def get_customer_baskets(customer_Email):\n",
    "    basket_list = []\n",
    "    for content in data:\n",
    "        if content[\"email\"]== customer_Email:\n",
    "            basket_list.append(content[\"items\"])\n",
    "    return basket_list\n",
    "get_customer_baskets(\"tshepo@umuzi.org\")"
   ]
  },
  {
   "cell_type": "code",
   "execution_count": 22,
   "id": "66a5fc0a",
   "metadata": {},
   "outputs": [
    {
     "data": {
      "text/plain": [
       "['tshepo@umuzi.org',\n",
       " 'sally@umuzi.org',\n",
       " 'mpho@umuzi.org',\n",
       " 'ryan@umuzi.org',\n",
       " 'mo@umuzi.org']"
      ]
     },
     "execution_count": 22,
     "metadata": {},
     "output_type": "execute_result"
    }
   ],
   "source": [
    "def get_all_customers():\n",
    "    email_list = []\n",
    "    for content in data:\n",
    "        if content[\"email\"] not in email_list:\n",
    "            email_list.append(content[\"email\"])\n",
    "    return email_list\n",
    "get_all_customers()"
   ]
  },
  {
   "cell_type": "code",
   "execution_count": 23,
   "id": "ee82ade0",
   "metadata": {},
   "outputs": [
    {
     "data": {
      "text/plain": [
       "[{'name': 'balloons', 'quantity': 1},\n",
       " {'name': 'big friggin cake', 'quantity': 1},\n",
       " {'name': 'candles', 'quantity': 1},\n",
       " {'name': 'hamster', 'quantity': 1},\n",
       " {'name': 'saw dust', 'quantity': 1},\n",
       " {'name': 'hamster-cage', 'quantity': 1},\n",
       " {'name': '128 GB SSD Hard drive', 'quantity': 1},\n",
       " {'name': 'book: how to suceed at being a hard arse', 'quantity': 1}]"
      ]
     },
     "execution_count": 23,
     "metadata": {},
     "output_type": "execute_result"
    }
   ],
   "source": [
    "def required_stock():\n",
    "    stock_list = []\n",
    "    \n",
    "    required_stocks = []\n",
    "    \n",
    "    stock_products =[]\n",
    "    \n",
    "    for basket in data:\n",
    "        if basket[\"status\"] ==\"PAID\":\n",
    "            stock_list.append(basket[\"items\"])\n",
    "            \n",
    "    for item in stock_list:\n",
    "    \n",
    "        for goods in item:\n",
    "            stock_products.append(goods[\"name\"])\n",
    "    quantities = dict(Counter(stock_products))\n",
    "    \n",
    "    for content in quantities:\n",
    "        \n",
    "        goods = {}\n",
    "        goods[\"name\"]= content\n",
    "        goods[\"quantity\"]= quantities[content]\n",
    "        required_stocks.append(goods)\n",
    "        \n",
    "    return required_stocks\n",
    "   \n",
    "required_stock()"
   ]
  },
  {
   "cell_type": "code",
   "execution_count": 4,
   "id": "15e11de8",
   "metadata": {},
   "outputs": [
    {
     "data": {
      "text/plain": [
       "3589"
      ]
     },
     "execution_count": 4,
     "metadata": {},
     "output_type": "execute_result"
    }
   ],
   "source": [
    "def total_spent(customer_Email):\n",
    "    stock_list =[]\n",
    "    total_price = 0\n",
    "    for content in data:\n",
    "        if (content[\"status\"] ==\"PAID\" or content[\"status\"] ==\"DELIVERED\") and content[\"email\"]== customer_Email:\n",
    "            stock_list.append(content[\"items\"])\n",
    "            \n",
    "    for stock in stock_list:\n",
    "        for item in stock:\n",
    "            total_price += item[\"price\"]\n",
    "            \n",
    "    return total_price\n",
    "total_spent(\"sally@umuzi.org\")\n",
    "    "
   ]
  },
  {
   "cell_type": "code",
   "execution_count": 24,
   "id": "1f4ae7c6",
   "metadata": {},
   "outputs": [
    {
     "data": {
      "text/plain": [
       "[{'email': 'sally@umuzi.org', 'total': 3589},\n",
       " {'email': 'tshepo@umuzi.org', 'total': 2269},\n",
       " {'email': 'ryan@umuzi.org', 'total': 760},\n",
       " {'email': 'mo@umuzi.org', 'total': 350},\n",
       " {'email': 'mpho@umuzi.org', 'total': 0}]"
      ]
     },
     "execution_count": 24,
     "metadata": {},
     "output_type": "execute_result"
    }
   ],
   "source": [
    "def top_customers():\n",
    "    customer_list=[]\n",
    "    emails =  get_all_customers()\n",
    "    for email in emails:\n",
    "        email_amount = {}\n",
    "        email_amount[\"email\"] = email\n",
    "        email_amount[\"total\"] = total_spent(email)\n",
    "        \n",
    "        customer_list.append(email_amount)\n",
    "       \n",
    "    return sorted(customer_list, key = lambda i: i[\"total\"], reverse = True)\n",
    "top_customers()   "
   ]
  },
  {
   "cell_type": "code",
   "execution_count": 25,
   "id": "ab326e47",
   "metadata": {},
   "outputs": [
    {
     "data": {
      "text/plain": [
       "['tshepo@umuzi.org', 'mpho@umuzi.org']"
      ]
     },
     "execution_count": 25,
     "metadata": {},
     "output_type": "execute_result"
    }
   ],
   "source": [
    "def get_customers_with_open_baskets():\n",
    "    email_list =[]\n",
    "    \n",
    "    for content in data:\n",
    "        if content[\"status\"] ==\"OPEN\":\n",
    "            email_list.append(content[\"email\"])\n",
    "        else:\n",
    "            continue\n",
    "    return email_list\n",
    "            \n",
    "get_customers_with_open_baskets()"
   ]
  },
  {
   "cell_type": "code",
   "execution_count": 196,
   "id": "0378a079",
   "metadata": {},
   "outputs": [
    {
     "name": "stdout",
     "output_type": "stream",
     "text": [
      "FaithMo\n"
     ]
    }
   ],
   "source": [
    "import requests\n",
    "\n",
    "import datetime\n",
    "\n",
    "\n",
    "\n",
    "\n",
    "#search for the top repositories\n",
    "api_url = f\"https://api.github.com/repos/Umuzi-org/ACN-syllabus/pulls?state=all\"\n",
    "\n",
    "#send get request\n",
    "response = requests.get(api_url)\n",
    "\n",
    "#get the json data\n",
    "data =  response.json()\n",
    "data_=[]\n",
    "\n",
    "\n",
    "for repository in data:\n",
    "    \n",
    "#print(repository)\n",
    "   \n",
    "    ID = repository[\"id\"]\n",
    "    User = repository[\"user\"][\"login\"]\n",
    "    Title = repository[\"title\"]\n",
    "    State = repository[\"state\"]\n",
    "    #2020-09-29T05:42:26Z\n",
    "    created_at = datetime.date(int(repository[\"created_at\"][0:4]), int(repository[\"created_at\"][5:7]), int(repository[\"created_at\"][8:10]))\n",
    "    #print(ID,User,Title,State)\n",
    "    #if repository[\"created_at\"] <= repository[\"closed_at\"]\n",
    "    data_.append({\"user\":User, \"start_date\":str(created_at)})\n",
    "\n",
    "    #print(ID, State,repository[\"created_at\"] )\n",
    "    #data_.append(repository)\n",
    "print(data_[0][\"user\"])\n",
    "# print(int(repository[\"created_at\"][0:4]))"
   ]
  },
  {
   "cell_type": "code",
   "execution_count": null,
   "id": "570d7f6f",
   "metadata": {},
   "outputs": [],
   "source": []
  },
  {
   "cell_type": "code",
   "execution_count": null,
   "id": "b04f3d0c",
   "metadata": {},
   "outputs": [],
   "source": []
  },
  {
   "cell_type": "code",
   "execution_count": null,
   "id": "de4e93fd",
   "metadata": {},
   "outputs": [],
   "source": []
  }
 ],
 "metadata": {
  "kernelspec": {
   "display_name": "Python 3 (ipykernel)",
   "language": "python",
   "name": "python3"
  },
  "language_info": {
   "codemirror_mode": {
    "name": "ipython",
    "version": 3
   },
   "file_extension": ".py",
   "mimetype": "text/x-python",
   "name": "python",
   "nbconvert_exporter": "python",
   "pygments_lexer": "ipython3",
   "version": "3.9.7"
  }
 },
 "nbformat": 4,
 "nbformat_minor": 5
}
